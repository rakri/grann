{
 "cells": [
  {
   "cell_type": "code",
   "execution_count": 4,
   "metadata": {},
   "outputs": [],
   "source": [
    "import hnswlib\n",
    "import numpy as np\n",
    "import numpy as np\n",
    "import h5py\n",
    "import os\n",
    "import requests\n",
    "import tempfile\n",
    "import time\n",
    "import struct\n",
    "import itertools\n",
    "\n",
    "from core_utils import read_float_binary_file,read_i8_binary_file,read_u8_binary_file,write_float_binary_file,read_int32_binary_file,compute_recall\n",
    "\n"
   ]
  },
  {
   "cell_type": "code",
   "execution_count": 5,
   "metadata": {},
   "outputs": [],
   "source": [
    "\n",
    "[nb, nd, dataset] = read_float_binary_file('/home/rakri/arxiv/wikipedia_large/wikipedia_base_100K.bin')\n",
    "[nq, ndq, queries] = read_float_binary_file('/home/rakri/arxiv/wikipedia_large/wikipedia_query.bin')\n",
    "[nqgt, nkgt, gt] = read_int32_binary_file('/home/rakri/wiki100k_gs100.bin')\n",
    "\n",
    "#names and parameters\n",
    "dataset_name='wiki100'\n",
    "Mb = 16\n",
    "efb = 200\n",
    "index_name = '/home/rakri/indices/hnsw_wiki_'+dataset_name+'M='+str(Mb)+'_efC='+str(efb) \n",
    "\n",
    "# for hnsw, it is only ef_search\n",
    "search_params = [(10), (20), (30), (40), (50), (60), (70), (80), (90), (100)]"
   ]
  },
  {
   "cell_type": "code",
   "execution_count": 6,
   "metadata": {},
   "outputs": [
    {
     "name": "stdout",
     "output_type": "stream",
     "text": [
      "Index exists, so loading\n"
     ]
    }
   ],
   "source": [
    "# Create an HNSW index\n",
    "index = hnswlib.Index(space='l2', dim=nd)\n",
    "index.init_index(max_elements=nb, M = Mb, ef_construction = efb, random_seed = 100)\n",
    "\n",
    "if os.path.isfile(index_name):\n",
    "    print(\"Index exists, so loading\")\n",
    "    index = hnswlib.Index(space='l2', dim=nd)\n",
    "    index.load_index(index_name, max_elements = nb)\n",
    "else:\n",
    "    index.add_items(dataset)\n",
    "    index.save_index(index_name)"
   ]
  },
  {
   "cell_type": "code",
   "execution_count": 7,
   "metadata": {},
   "outputs": [
    {
     "name": "stdout",
     "output_type": "stream",
     "text": [
      "ef\tRecall\t\ttime\n"
     ]
    },
    {
     "name": "stdout",
     "output_type": "stream",
     "text": [
      "10 \t 0.68444 \t 61.86943054199219\n",
      "20 \t 0.73324 \t 114.05119895935059\n",
      "30 \t 0.82468 \t 162.32924461364746\n",
      "40 \t 0.88636 \t 207.39431381225586\n",
      "50 \t 0.9136 \t 247.88260459899902\n",
      "60 \t 0.93184 \t 286.47656440734863\n",
      "70 \t 0.95938 \t 324.2431640625\n",
      "80 \t 0.98924 \t 362.2021198272705\n",
      "90 \t 0.99904 \t 401.24807357788086\n",
      "100 \t 0.99988 \t 439.23306465148926\n"
     ]
    }
   ],
   "source": [
    "# Search for the nearest neighbor of a query vector\n",
    "\n",
    "index.set_num_threads(1)\n",
    "print(\"ef\\tRecall\\t\\ttime\")\n",
    "for param in search_params:\n",
    "    (ef_search) = param\n",
    "    index.set_ef(ef_search)\n",
    "    start = time.time()\n",
    "    neighbors, distances = index.knn_query(queries, k=10)\n",
    "    end = time.time()\n",
    "    recall = compute_recall(neighbors, gt[:,:10])\n",
    "    print(ef_search,\"\\t\",recall,\"\\t\",1000000*(end-start)/nq)\n",
    "# Print the nearest neighbor\n",
    "#print(neighbors)\n",
    "#print(distances)"
   ]
  }
 ],
 "metadata": {
  "kernelspec": {
   "display_name": "Python 3",
   "language": "python",
   "name": "python3"
  },
  "language_info": {
   "codemirror_mode": {
    "name": "ipython",
    "version": 3
   },
   "file_extension": ".py",
   "mimetype": "text/x-python",
   "name": "python",
   "nbconvert_exporter": "python",
   "pygments_lexer": "ipython3",
   "version": "3.10.12"
  }
 },
 "nbformat": 4,
 "nbformat_minor": 2
}
